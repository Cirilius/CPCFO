{
 "cells": [
  {
   "cell_type": "code",
   "execution_count": 31,
   "id": "e9ff2147-2749-4f8a-8421-39ba0a847b96",
   "metadata": {},
   "outputs": [],
   "source": [
    "import rasterio\n",
    "import pandas as pd\n",
    "import numpy as np\n",
    "from sklearn.model_selection import train_test_split\n",
    "from sklearn.preprocessing import StandardScaler\n",
    "import catboost as cb\n",
    "from sklearn.metrics import classification_report\n",
    "import numpy as np\n",
    "\n",
    "def calculate_additional_features(red, green, blue, nir):\n",
    "    # Existing NDVI calculation\n",
    "    ndvi = (nir - red) / (1e-3 + nir + red)\n",
    "    \n",
    "    # Enhanced Vegetation Index (EVI)\n",
    "    evi = 2.5 * (nir - red) / (1e-3 + nir + 6 * red - 7.5 * blue + 1)\n",
    "    \n",
    "    # Soil Adjusted Vegetation Index (SAVI)\n",
    "    savi = ((nir - red) / (nir + red + 0.5)) * 1.5\n",
    "    \n",
    "    # Normalized Difference Water Index (NDWI)\n",
    "    ndwi = (green - nir) / (1e-3 + green + nir)\n",
    "    \n",
    "    # Simple Ratio (SR)\n",
    "    sr = nir / (1e-3 + red)\n",
    "    \n",
    "    # Green Normalized Difference Vegetation Index (GNDVI)\n",
    "    gndvi = (nir - green) / (1e-3 + nir + green)\n",
    "    \n",
    "    # Texture features (example: local entropy)\n",
    "    def entropy(values):\n",
    "        values = values.flatten()\n",
    "        h, _ = np.histogram(values, bins=20)\n",
    "        h = h / h.sum()\n",
    "        return -np.sum(h * np.log2(h + (h == 0)))\n",
    "    \n",
    "    entropy_red =0# generic_filter(red, entropy, size=5)\n",
    "    entropy_nir =0# generic_filter(nir, entropy, size=5)\n",
    "    \n",
    "    return ndvi, evi, savi, ndwi, sr, gndvi, entropy_red, entropy_nir\n",
    "\n",
    "# In your main processing function:\n",
    "def load_and_preprocess_tiff(file_path, r_band, g_band, b_band, ik_band, mask_band):\n",
    "    with rasterio.open(file_path) as src:\n",
    "        red = src.read(r_band)\n",
    "        green = src.read(g_band)\n",
    "        blue = src.read(b_band)\n",
    "        nir = src.read(ik_band)\n",
    "        mask = src.read(mask_band)\n",
    "    \n",
    "    ndvi, evi, savi, ndwi, sr, gndvi, entropy_red, entropy_nir = calculate_additional_features(red, green, blue, nir)\n",
    "    \n",
    "    # Create a DataFrame with pixel-level information\n",
    "    pixel_data = pd.DataFrame({\n",
    "        'red': red.flatten(),\n",
    "        'green': green.flatten(),\n",
    "        'blue': blue.flatten(),\n",
    "        'nir': nir.flatten(),\n",
    "        'ndvi': ndvi.flatten(),\n",
    "        'evi': evi.flatten(),\n",
    "        'savi': savi.flatten(),\n",
    "        'ndwi': ndwi.flatten(),\n",
    "        'sr': sr.flatten(),\n",
    "        'gndvi': gndvi.flatten(),\n",
    "        #'entropy_red': entropy_red.flatten(),\n",
    "        #'entropy_nir': entropy_nir.flatten(),\n",
    "        #'mask': mask.flatten()\n",
    "    })\n",
    "    \n",
    "    return pixel_data\n",
    "\n",
    "def process_csv(csv_data):\n",
    "    # Read the CSV file\n",
    "    # Take only the last 10 rows\n",
    "    last_10_rows = csv_data.iloc[:,1:].tail(10)\n",
    "    # Calculate the mean for each feature\n",
    "    mean_values = last_10_rows.mean()\n",
    "    # If there's no data, the mean will be NaN\n",
    "    return mean_values\n",
    "\n"
   ]
  },
  {
   "cell_type": "code",
   "execution_count": 27,
   "id": "161124dc-825c-4233-8d17-c96911ee2859",
   "metadata": {},
   "outputs": [
    {
     "data": {
      "text/plain": [
       "<catboost.core.CatBoostClassifier at 0x7f9d329ca850>"
      ]
     },
     "execution_count": 27,
     "metadata": {},
     "output_type": "execute_result"
    }
   ],
   "source": [
    "loaded_model = cb.CatBoostClassifier()\n",
    "loaded_model.load_model(\"model\")"
   ]
  },
  {
   "cell_type": "code",
   "execution_count": 55,
   "id": "551442c8-a6b7-490c-becf-b168642eeabb",
   "metadata": {},
   "outputs": [],
   "source": [
    "csv_data = pd.read_csv('tests/test.csv')\n",
    "tiff_file = 'tests/test.tiff'\n",
    "pixel_data = load_and_preprocess_tiff(tiff_file, r_band=1, g_band=2, b_band=3, ik_band=4, mask_band=5)\n",
    "with rasterio.open(tiff_file) as src:\n",
    "    original_shape = src.read(1).shape\n",
    "    \n",
    "csv_mean_data = process_csv(csv_data)\n",
    "    \n",
    "    # Step 2: Combine pixel-level and panorama-level data\n",
    "csv_data_expanded = pd.DataFrame(np.tile(csv_mean_data.values, (len(pixel_data), 1)), \n",
    "                                     columns=csv_mean_data.index)\n",
    "df = pd.concat([pixel_data, csv_data_expanded], axis=1)\n",
    "\n",
    "# Get the feature names from the model\n",
    "feature_names = loaded_model.feature_names_\n",
    "\n",
    "# Create a list of columns that are not in the DataFrame\n",
    "missing_columns = [col for col in feature_names if col not in df.columns]\n",
    "\n",
    "# Add the missing columns to the DataFrame and fill them with NaN\n",
    "for col in missing_columns:\n",
    "    df[col] = np.nan\n",
    "\n",
    "# Reorder the columns to match the order in feature_names\n",
    "df = df.reindex(columns=feature_names)"
   ]
  },
  {
   "cell_type": "code",
   "execution_count": 60,
   "id": "f4798df3-5fb6-4db2-82fc-2795412afbab",
   "metadata": {},
   "outputs": [],
   "source": [
    "cb_pred_proba = loaded_model.predict_proba(df)[:, 1].reshape(original_shape) # Get the probability estimates for the positive class"
   ]
  },
  {
   "cell_type": "code",
   "execution_count": 72,
   "id": "79e456c3-94a8-4c20-a024-18c64a764659",
   "metadata": {},
   "outputs": [
    {
     "ename": "NameError",
     "evalue": "name 'threshold' is not defined",
     "output_type": "error",
     "traceback": [
      "\u001B[0;31m---------------------------------------------------------------------------\u001B[0m",
      "\u001B[0;31mNameError\u001B[0m                                 Traceback (most recent call last)",
      "\u001B[0;32m/tmp/ipykernel_249754/1331367245.py\u001B[0m in \u001B[0;36m<cell line: 0>\u001B[0;34m()\u001B[0m\n\u001B[1;32m     11\u001B[0m \u001B[0;32mfor\u001B[0m \u001B[0mrow\u001B[0m \u001B[0;32min\u001B[0m \u001B[0mrange\u001B[0m\u001B[0;34m(\u001B[0m\u001B[0mcb_pred_proba\u001B[0m\u001B[0;34m.\u001B[0m\u001B[0mshape\u001B[0m\u001B[0;34m[\u001B[0m\u001B[0;36m0\u001B[0m\u001B[0;34m]\u001B[0m\u001B[0;34m)\u001B[0m\u001B[0;34m:\u001B[0m\u001B[0;34m\u001B[0m\u001B[0;34m\u001B[0m\u001B[0m\n\u001B[1;32m     12\u001B[0m     \u001B[0;32mfor\u001B[0m \u001B[0mcol\u001B[0m \u001B[0;32min\u001B[0m \u001B[0mrange\u001B[0m\u001B[0;34m(\u001B[0m\u001B[0mcb_pred_proba\u001B[0m\u001B[0;34m.\u001B[0m\u001B[0mshape\u001B[0m\u001B[0;34m[\u001B[0m\u001B[0;36m1\u001B[0m\u001B[0;34m]\u001B[0m\u001B[0;34m)\u001B[0m\u001B[0;34m:\u001B[0m\u001B[0;34m\u001B[0m\u001B[0;34m\u001B[0m\u001B[0m\n\u001B[0;32m---> 13\u001B[0;31m         \u001B[0;32mif\u001B[0m \u001B[0mcb_pred_proba\u001B[0m\u001B[0;34m[\u001B[0m\u001B[0mrow\u001B[0m\u001B[0;34m,\u001B[0m \u001B[0mcol\u001B[0m\u001B[0;34m]\u001B[0m \u001B[0;34m>\u001B[0m \u001B[0mthreshold\u001B[0m\u001B[0;34m:\u001B[0m\u001B[0;34m\u001B[0m\u001B[0;34m\u001B[0m\u001B[0m\n\u001B[0m\u001B[1;32m     14\u001B[0m             \u001B[0mx\u001B[0m\u001B[0;34m,\u001B[0m \u001B[0my\u001B[0m \u001B[0;34m=\u001B[0m \u001B[0mpixel_to_coord\u001B[0m\u001B[0;34m(\u001B[0m\u001B[0mrow\u001B[0m\u001B[0;34m,\u001B[0m \u001B[0mcol\u001B[0m\u001B[0;34m,\u001B[0m \u001B[0mtransform\u001B[0m\u001B[0;34m)\u001B[0m\u001B[0;34m\u001B[0m\u001B[0;34m\u001B[0m\u001B[0m\n\u001B[1;32m     15\u001B[0m             point = {\n",
      "\u001B[0;31mNameError\u001B[0m: name 'threshold' is not defined"
     ]
    }
   ],
   "source": [
    "def pixel_to_coord(row, col, transform):\n",
    "    x, y = rasterio.transform.xy(transform, row, col)\n",
    "    return x, y\n",
    "\n",
    "threshold = 0.5\n",
    "with rasterio.open(tiff_file) as src:\n",
    "    transform = src.transform\n",
    "\n",
    "geojson_points = []\n",
    "\n",
    "for row in range(cb_pred_proba.shape[0]):\n",
    "    for col in range(cb_pred_proba.shape[1]):\n",
    "        if cb_pred_proba[row, col] > threshold:\n",
    "            x, y = pixel_to_coord(row, col, transform)\n",
    "            point = {\n",
    "                \"type\": \"Feature\",\n",
    "                \"geometry\": {\n",
    "                    \"type\": \"Point\",\n",
    "                    \"coordinates\": [x, y]\n",
    "                },\n",
    "                \"properties\": {\n",
    "                    \"probability\": float(cb_pred_proba[row, col])\n",
    "                }\n",
    "            }\n",
    "            geojson_points.append(point)\n"
   ]
  }
 ],
 "metadata": {
  "kernelspec": {
   "display_name": "Python 3 (ipykernel)",
   "language": "python",
   "name": "python3"
  },
  "language_info": {
   "codemirror_mode": {
    "name": "ipython",
    "version": 3
   },
   "file_extension": ".py",
   "mimetype": "text/x-python",
   "name": "python",
   "nbconvert_exporter": "python",
   "pygments_lexer": "ipython3",
   "version": "3.11.4"
  }
 },
 "nbformat": 4,
 "nbformat_minor": 5
}
